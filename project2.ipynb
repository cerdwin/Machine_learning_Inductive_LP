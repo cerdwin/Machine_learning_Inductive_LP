#!/usr/bin/env python
# coding: utf-8

# # **Initialization**
# 
# ---
# 
# Install and import requiired libraries.
# 
# 

# In[ ]:


# get_ipython().system('pip install modgrammar>=0.10')
# get_ipython().system('pip install pycosat>=0.6.3')
from logic import *
from engine import subsumes
from folParsing import parseClause, parseLiteral
from typing import Set, List, Iterable, Dict, Tuple


# # **The assignment**
# 
# 
# ---
# 
# The aim of this assignment is to create a first-order logic (FOL) agent which generalizes
# with respect to some background knowledge. Specifically, you will have to implement the following interface providing
# 
# *   rllg
# *   relative reduction
# *   relative theta-subsumption

# In[ ]:


class Support:
    ''' This class is a class, which, once implemented, provides FOL algorithms (e.g. subsumption) relative to background knowledge B. '''

    def __init__(self, backgroundKnowledge: Set[Literal]) -> 'Support':
        for literal in backgroundKnowledge:
            if not literal.isGround():
                raise ValueError("Background knowledge should contain only ground literals.")
        self.backgroundKnowledge: Set[Literal] = backgroundKnowledge

    def atom_lgg(self, alpha: Atom, beta: Atom, subs: Dict) -> Atom:
        resulting_terms = []
        for i in range(len(alpha)):
            current_alpha = alpha.terms[i]
            current_beta = beta.terms[i]
            if (current_alpha, current_beta) not in subs.keys():
                if current_alpha == current_beta:
                    resulting_terms.append(current_alpha)
                    continue
                else:
                    subs[(current_alpha, current_beta)] = Variable("V_" + str(self.counter))
                    self.counter += 1
            resulting_terms.append(subs[(current_alpha, current_beta)])

        return Atom(alpha.predicate, resulting_terms)

    def lgg(self, alpha: Clause, beta: Clause) -> Clause:
        subs = {}
        self.counter = 1
        res = []
        for a in alpha.literals:
            for b in beta.literals:
                if a.atom.predicate == b.atom.predicate:  # if the predicate is identical
                    if a.atom.arity == b.atom.arity:  # if arity checks out
                        if a.positive == b.positive:  # if the "spin" matches too
                            tmp = Literal(self.atom_lgg(a.atom, b.atom, subs), a.positive)
                            res.append(tmp)
        return Clause(res)

    def rlgg(self, alpha: Clause, beta: Clause) -> Clause:  ##
        ''' Given clauses alpha and beta, this method returns lgg(alpha, beta) relative to B. '''
        # First, we rewrite clauses into B->c1 and B->c2 respectively
        background_c1 = []
        background_c2 = []
        for i in self.backgroundKnowledge:
            background_c1.append(i.negation())  # this is assuming B is in a clausal form
            background_c2.append(i.negation())
        for literal in alpha.literals:
            background_c1.append(literal)
        for literal in beta.literals:
            background_c2.append(literal)

        new_c1 = Clause(background_c1)
        new_c2 = Clause(background_c2)
        # Second, we compute least general generalisation
        result = self.lgg(new_c1, new_c2)

        return result

    def reduction(self, clause: Clause) -> Clause:  ##
        new_clause = clause  # we first copy the standing clause, as we shall be editing it
        for first_lit in clause.literals:
            temp_literals = [lit for lit in new_clause.literals]
            if first_lit not in temp_literals:
                continue
            temp_literals.remove(first_lit)
            if subsumes(new_clause, Clause(temp_literals)):
                new_clause = Clause(temp_literals)
        return new_clause

    def relativeReduction(self, clause: Clause) -> Clause:  ##
        ''' Returns a reduction of the clause wrt. B. '''
        # FIrst, we realise that if there is a literal in clause that appears in B with opposite sign, we can remove it
        flagged = []
        for literal in clause.literals:
            if literal.negation() in self.backgroundKnowledge:
                continue
            flagged.append(literal)
        new_clause = Clause(flagged)
        # After all such literals being removed, we proceed to reduction
        return self.reduction(new_clause)

    def relativeThetaSubsumes(self, subsumer: Clause, subsumed: Clause) -> bool:
        ''' Returns true iff 'subsumer' clause theta-subsusmes 'subsumed' clause; returns false otherwise. '''
        # We call a FOL conjunction or FOL clause self-resolving if it
        # contains a positive literal and a negative literal both with the same predicate.

        new_lits = []
        # rewriting B -> h' to ~B v h'
        for literal in self.backgroundKnowledge:
            new_lits.append(literal.negation())
        for lit in subsumed.literals:
            new_lits.append(lit)
        new_clause = Clause(new_lits)
        # check if it is self-resolving
        if subsumes(subsumer, new_clause):
            return True
        return False


# **Environment recapitulation**
# 
# We will use almost the same environment-agent setup as we used in the previous assignment. See below that there are only a few differences wrt. the previous environment.

# In[ ]:


class FirstOrderEnvironment:

    def __init__(self, targetConcept: Clause, observations: List[Clause], support: Support) -> 'FirstOrderEnvironment':
        if not len(observations):
            raise ValueError("The environment requires at least one observation.")
        self.targetConcept: Clause = targetConcept
        self.observations: List[Clause] = observations + [None]
        self.support: Support = support
        self.index: int = 0
        self.lastObservation: Clause = observations[0]

    def hasMoreObservations(self) -> bool:
        return self.index < len(self.observations) - 1

    def _nextObservation(self) -> Clause:
        """ Yields another observation from the observations obtained during initialization. """
        self.index += 1
        self.lastObservation = self.observations[self.index]
        return self.lastObservation

    def action(self, action: bool) -> Tuple[int, Clause]:
        """ Accepts a prediction of the class of the previous sample. Returns the corresponding reward (-1 or 0) and another sample. """
        correctAnswer: bool = self.support.relativeThetaSubsumes(self.targetConcept, self.lastObservation)
        reward = 0 if action == correctAnswer else -1
        observation = self._nextObservation()
        return reward, observation


class GeneralizingFirstOrderAgent:

    def __init__(self, environment: FirstOrderEnvironment, support: Support) -> 'GeneralizingFirstOrderAgent':
        self.environment: FirstOrderEnvironment = environment
        self.support: Support = support
        self.hypothesis: Clause = None
        self.lastObservation: Clause = None  # after seeing all observations, this variable will contain None
        self._initLearning()

    def _initLearning(self):
        self.lastObservation = self.environment.lastObservation

    def getHypothesis(self) -> Clause:
        """ Just a simple getter. """
        return self.hypothesis

    def performAction(self, action: bool) -> Clause:
        """ Sends one action to environment. Adjusts hypothesis on negative reward. """
        reward, observation = self.environment.action(action)
        if reward == -1:  # misclassified
            if self.hypothesis:
                self.hypothesis = self.support.relativeReduction(
                    self.support.rlgg(self.lastObservation, self.hypothesis))
            else:
                self.hypothesis = self.lastObservation
        return observation

    def classify(self, observation: Clause) -> bool:
        """ Make a prediction given the observation and current hypothesis using relative theta-subsumption. """
        if self.hypothesis:
            return self.support.relativeThetaSubsumes(self.hypothesis, observation)
        else:
            return False

    def run(self) -> None:
        """ Iterate the agent-environment using observations, so the agent will learn. """
        prediction: bool = False
        while self.environment.hasMoreObservations():
            observation: Clause = self.performAction(prediction)
            if observation:
                prediction: bool = self.classify(observation)
                self.lastObservation = observation


# Lastly, we need to set up some learning problem, e.g.

# In[ ]:


# In all of the three subsequent examples, the agent learned target hypotheses
version = 2

if version == 1:
    # Vampires: If something flies and sucks blood, it is immortal is what the agent learned
    # given background knowledge and observations
    # predicates : unary:
                            # immortal, flies, sucks_blood ....hopefully self-explanatory
    # constants :
    #                         fairy, frankenstein, nosferatu, dracula


    backgroundKnowledge = [ "!immortal(fairy)", "!flies(frankenstein)", "flies(nosferatu)", "immortal(dracula)",
                           "flies(fairy)", "immortal(frankenstein)", "flies(dracula)", "immortal(nosferatu)"]
    observations = ["sucks_blood(nosferatu)", "sucks_blood(dracula)", "!sucks_blood(frankenstein)", "!sucks_blood(fairy)"]
    targetHypothesis = "!flies(X), sucks_blood(X), !immortal(X)"

if version == 2:
    # Bacteria : if a bacteria used asexual reproduction (b. fission) and another shares descendant genome with it,
    # then it was at some point reproduced by it is what the agent learned given background knowledge and observations
    # In this example, I wanted to try out using predicate of arity two, which would link a term with itself
    # predicates : unary:
    #
    #             : arity 2:
    #                       shares_descendant_genome : detected similar strains of genome, younger version
    #                       binary_fission          :  bacterial reproduction
    #                       reproduced_by           : if one bacteria was in fact reproduced by another
    #                       plasmidified            : if a bacteria passed on its RNA information onto another

    # constants :
    #                         a, b, c

    backgroundKnowledge = ["shares_descendant_genome(a, b)", "binary_fission(b, b)", "plasmidified(a, b)",
                           "shares_descendant_genome(b, c)", "binary_fission(c, c)", "denatured(d, a)"]
    observations = ["!reproduced_by(a, b)", "reproduced_by(b, a)", "reproduced_by(c, b)", "!reproduced_by(d, a)"]
    targetHypothesis = "!shares_descendant_genome(X, Y), !binary_fission(Y, Y), reproduced_by(Y, X)"

elif version == 3:
    # Fairy tale: If X is a dragon and Y is a princess, then said X eats Y
    # is what the agent learned given background knowledge and observations
    # Here I got to a point, when I started experimenting with observations and to what extent did I reveal parts
    # of the H. universe to the agent. I also experimented some more with some versions which led either to my solver
    # not reaching the target hypothesis, or for example it not reaching a conclusion fast enough, as the problems got
    # more convoluted. I have thus ommited those experiments from this part. Some snippets are in rework.py attached.
    # predicates : unary:
    #                       dragon, princess
    #             : arity 2:
    #                       scares                  : if the first scares the second
    #                       eats                    :  self-explanatory hopefully :D
    #                       reproduced_by           : if one bacteria was in fact reproduced by another
    #                       plasmidified            : if a bacteria passed on its RNA information onto another

    # constants :
    #                         drogon, bucifal, fiona, diana, isabella

    backgroundKnowledge = ["dragon(drogon)", "dragon(bucifal)", "!scares(fiona, drogon)","scares(bucifal, fiona)",
                           "princess(fiona)",
                           "princess(diana)", "princess(isabella)"]
    observations = ["eats(bucifal,diana)", "eats(drogon, fiona)", "!eats(diana, bucifal)",
                    "!dragon(fiona)", "!princess(drogon)", "!scares(drogon, diana)", "scares(fiona, diana)",
                    "!eats(isabella, fiona)"]
    targetHypothesis = "!dragon(X), !princess(Y), eats(X, Y)"




backgroundKnowledge = set(map(parseLiteral, backgroundKnowledge))
observations = list(map(parseClause, observations))
targetHypothesis = parseClause(targetHypothesis)

# Finally, the agent can learn:

# In[ ]:


support: Support = Support(backgroundKnowledge)
environment: FirstOrderEnvironment = FirstOrderEnvironment(targetHypothesis, observations, support)
agent: GeneralizingFirstOrderAgent = GeneralizingFirstOrderAgent(environment, support)
agent.run()
print("agent's hypothesis is\t{}".format(agent.getHypothesis()))

# # **Your task & Grading**
# ---
# The task is to complete an on-line learning FOL-based agent, which learns FOL clauses (disjunctions) relative to background knowledge (a set of ground literals). To accomplish this, you have to
# 
# *   implement methods in the *Support* class
# *   present at least one non-trivial learning scenario (i.e. list background knowledge, observations, target hypothesis) and describe what the agent learned (if it is a target hypothesis or not,...)
# 
# By non-trivial scenario, it is meant that there are at least two positive and negative observations, it can be represented in FOL (but not in propositional logic!), the scenario is original (not a variant of a lecture or a tutorial example), background knowledge is non-empty....
# 
# **Submission format**
#  
# *  Submit this notebook (within an archive) into brute.
# *  Do not change anything else than the things mentioned above (*Support* class, new cells for your scenario). In other words, do not change *FirstOrderEnvironment*, *GeneralizingFirstOrderAgent* class, and other files.
# *   Avoid hard-coded or too complex solutions.
# *   You MAY implement any auxiliary methods you want. You MAY import anything from the Python standard library but not from other libraries.
# *  Do not spam the standard output with debug messages.
# *  This is not teamwork! Work it out on your own, so you can be in a government one day.
# 
# **Grading**
# 
# In total, you can obtain 12.5 points.
# 
# *   4p *rlgg*
# *   3p *relativeReduction*
# *   3p *relativeThetaSubsumes*
# *   2.5p scenario
# 
# Due date is in three weeks (see deadline in BRUTE).
# 
# 
# 
# 
# 

# # **Usage**
# ---
# 
# Below, you find a minimalist guide for using the provided FOL library. It mirrors the standard FOL syntax (literals, atoms, functors, compound terms... all implemented in *logic.py*), so you can either construct a clause by creating every single object, or simply use a parser. 
# Bear in mind that variables start with an **uppercase** letter while constant and functors with a **lowercase** letter. 

# In[ ]:


c1 = Clause([Literal(Atom(Predicate("p", 2), [Constant("adam"), Variable("X")]), positive=False)])
c2 = parseClause("p(adam, fatherOf(adam)), !p(X, fatherOf(fatherOf(X)))")
print(c1)
print(c2)

# You may simply iterate over literals of a clause, terms of a literal or a composed term.

# In[ ]:


for literal in c2:
    print("{} literal {} has following arguments".format("positive" if literal.positive else "negative", literal))
    for term in literal:
        if isinstance(term, CompoundTerm):
            print("\tcompound term\t{}\n\t\twith function symbol\t{}".format(term, term.functor))
            for argument in term:
                print("\t\t{}".format(argument))
        else:
            print("\t{}\t{}".format(term.__class__, term))

# By the way, getting negation of literal is as symple as:

# In[ ]:


for literal in c2:
    print(literal.negation())

# The easiest way to apply a substitution to a clause is to create a substitution, i.e. a dictionary of terms indexed by variables.

# In[ ]:


c3 = parseClause("siblings(X, Y, Z)")
ss = c3.getVariables()
print("vars are:")
t = [i.name for i in ss]
print(t)
nums = []
for i in t:
    ne = t[0] + i
    nums.append(ne)
print(nums)
x = Variable("X")
y = Variable("Y")
z = Variable("Z")
issac = Constant("issac")
kain = Constant("kain")
substitution = {x: issac, y: kain, z: x}
print(c3.substitute(substitution))

# Finally, see the invocation of a theta-subsumption query.
# 

# In[ ]:


c4 = parseClause("p(X, Y)")
c5 = parseClause("p(Z, W)")
c4subsumesC5 = subsumes(c4, c5)
print("{}\t{}\t{}".format(c4, "theta-subsumes" if c4subsumesC5 else "does not theta-subsume", c5))
c5subsumesC4 = subsumes(c5, c4)
print("{}\t{}\t{}".format(c5, "theta-subsumes" if c5subsumesC4 else "does not theta-subsume", c4))

# The library is written in a functional-like manner, so using some stateful hacks could result in malfunctions.



